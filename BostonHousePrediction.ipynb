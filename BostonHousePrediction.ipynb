{
 "cells": [
  {
   "cell_type": "markdown",
   "id": "9b6cdb36",
   "metadata": {},
   "source": [
    "# Boston House"
   ]
  },
  {
   "cell_type": "markdown",
   "id": "adc1ee6f",
   "metadata": {},
   "source": [
    "#### Import Base"
   ]
  },
  {
   "cell_type": "code",
   "execution_count": null,
   "id": "b491a55f",
   "metadata": {},
   "outputs": [],
   "source": [
    "import os\n",
    "import pandas as pd\n",
    "import numpy as np\n",
    "import matplotlib.pyplot as plt\n",
    "import seaborn as sns\n",
    "from sklearn.preprocessing import PolynomialFeatures\n",
    "from sklearn.linear_model import LinearRegression\n",
    "from sklearn.metrics import mean_squared_error, r2_score, mean_absolute_error\n",
    "from sklearn.model_selection import train_test_split"
   ]
  },
  {
   "cell_type": "markdown",
   "id": "5e7e2eeb",
   "metadata": {},
   "source": [
    "## To ma3"
   ]
  },
  {
   "cell_type": "code",
   "execution_count": null,
   "id": "06ae45e7",
   "metadata": {},
   "outputs": [],
   "source": []
  },
  {
   "cell_type": "code",
   "execution_count": null,
   "id": "c9740251",
   "metadata": {},
   "outputs": [],
   "source": []
  }
 ],
 "metadata": {
  "kernelspec": {
   "display_name": "Python 3 (ipykernel)",
   "language": "python",
   "name": "python3"
  }
 },
 "nbformat": 4,
 "nbformat_minor": 5
}
