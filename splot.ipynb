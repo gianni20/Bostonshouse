{
 "cells": [
  {
   "cell_type": "code",
   "execution_count": 5,
   "id": "bde45fc0",
   "metadata": {},
   "outputs": [
    {
     "ename": "ModuleNotFoundError",
     "evalue": "No module named 'pandas'",
     "output_type": "error",
     "traceback": [
      "\u001b[31m---------------------------------------------------------------------------\u001b[39m",
      "\u001b[31mModuleNotFoundError\u001b[39m                       Traceback (most recent call last)",
      "\u001b[36mCell\u001b[39m\u001b[36m \u001b[39m\u001b[32mIn[5]\u001b[39m\u001b[32m, line 1\u001b[39m\n\u001b[32m----> \u001b[39m\u001b[32m1\u001b[39m \u001b[38;5;28;01mimport\u001b[39;00m\u001b[38;5;250m \u001b[39m\u001b[34;01mpandas\u001b[39;00m\u001b[38;5;250m \u001b[39m\u001b[38;5;28;01mas\u001b[39;00m\u001b[38;5;250m \u001b[39m\u001b[34;01mpd\u001b[39;00m\n\u001b[32m      2\u001b[39m \u001b[38;5;28;01mimport\u001b[39;00m\u001b[38;5;250m \u001b[39m\u001b[34;01mmatplotlib\u001b[39;00m\u001b[34;01m.\u001b[39;00m\u001b[34;01mpyplot\u001b[39;00m\u001b[38;5;250m \u001b[39m\u001b[38;5;28;01mas\u001b[39;00m\u001b[38;5;250m \u001b[39m\u001b[34;01mplt\u001b[39;00m\n\u001b[32m      3\u001b[39m \u001b[38;5;28;01mimport\u001b[39;00m\u001b[38;5;250m \u001b[39m\u001b[34;01mseaborn\u001b[39;00m\u001b[38;5;250m \u001b[39m\u001b[38;5;28;01mas\u001b[39;00m\u001b[38;5;250m \u001b[39m\u001b[34;01msns\u001b[39;00m\n",
      "\u001b[31mModuleNotFoundError\u001b[39m: No module named 'pandas'"
     ]
    }
   ],
   "source": [
    "import pandas as pd\n",
    "import matplotlib.pyplot as plt\n",
    "import seaborn as sns\n",
    "from sklearn.model_selection import train_test_split\n",
    "from sklearn.preprocessing import PolynomialFeatures\n",
    "from sklearn.linear_model import LinearRegression\n",
    "from sklearn.metrics import mean_squared_error\n",
    "from sklearn.pipeline import make_pipeline\n",
    "from sklearn.preprocessing import StandardScaler\n",
    "\n",
    "# Caricamento dataset\n",
    "df = pd.read_csv('/mnt/data/boston_data/Bostonshouse/boston.csv')\n",
    "\n",
    "# 1. Heatmap di correlazione\n",
    "plt.figure(figsize=(12, 10))\n",
    "corr = df.corr(numeric_only=True)\n",
    "sns.heatmap(corr, annot=True, cmap='coolwarm', fmt=\".2f\")\n",
    "plt.title(\"Matrice di Correlazione\")\n",
    "plt.show()\n",
    "\n",
    "# 2. Selezione della feature più correlata con MEDV (escludendo MEDV stesso)\n",
    "correlation_with_target = corr['MEDV'].drop('MEDV').abs()\n",
    "best_feature = correlation_with_target.idxmax()\n",
    "print(f\"Feature più correlata con MEDV: {best_feature}\")\n",
    "\n",
    "# 3. Selezione dati\n",
    "X = df[[best_feature]].values\n",
    "y = df['MEDV'].values\n",
    "\n",
    "# 4. Suddivisione 50% training / 50% test\n",
    "X_train, X_test, y_train, y_test = train_test_split(X, y, test_size=0.5, random_state=42)\n",
    "\n",
    "# 5. Modello di regressione polinomiale (grado 2)\n",
    "model = make_pipeline(PolynomialFeatures(degree=2), StandardScaler(), LinearRegression())\n",
    "model.fit(X_train, y_train)\n",
    "\n",
    "# Predizione sul test set\n",
    "y_pred = model.predict(X_test)\n",
    "\n",
    "# 6. Errore quadratico medio\n",
    "mse = mean_squared_error(y_test, y_pred)\n",
    "print(f\"Errore quadratico medio sul test set: {mse:.2f}\")\n",
    "\n",
    "# 7. Visualizzazione della curva di regressione\n",
    "import numpy as np\n",
    "x_range = np.linspace(X.min(), X.max(), 300).reshape(-1, 1)\n",
    "y_curve = model.predict(x_range)\n",
    "\n",
    "plt.figure(figsize=(8, 6))\n",
    "plt.scatter(X_test, y_test, label=\"Test data\", alpha=0.6)\n",
    "plt.plot(x_range, y_curve, color='red', label='Modello polinomiale')\n",
    "plt.xlabel(best_feature)\n",
    "plt.ylabel(\"MEDV (prezzo)\")\n",
    "plt.title(f\"Regressione polinomiale con '{best_feature}'\")\n",
    "plt.legend()\n",
    "plt.grid(True)\n",
    "plt.tight_layout()\n",
    "plt.show()\n"
   ]
  }
 ],
 "metadata": {
  "kernelspec": {
   "display_name": "Python 3",
   "language": "python",
   "name": "python3"
  },
  "language_info": {
   "codemirror_mode": {
    "name": "ipython",
    "version": 3
   },
   "file_extension": ".py",
   "mimetype": "text/x-python",
   "name": "python",
   "nbconvert_exporter": "python",
   "pygments_lexer": "ipython3",
   "version": "3.13.3"
  }
 },
 "nbformat": 4,
 "nbformat_minor": 5
}
